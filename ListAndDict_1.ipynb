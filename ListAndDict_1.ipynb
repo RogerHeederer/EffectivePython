{
  "nbformat": 4,
  "nbformat_minor": 0,
  "metadata": {
    "colab": {
      "name": "ListAndDict_1.ipynb",
      "provenance": [],
      "authorship_tag": "ABX9TyPG5so47hNA67x9OFAV/d/S",
      "include_colab_link": true
    },
    "kernelspec": {
      "name": "python3",
      "display_name": "Python 3"
    }
  },
  "cells": [
    {
      "cell_type": "markdown",
      "metadata": {
        "id": "view-in-github",
        "colab_type": "text"
      },
      "source": [
        "<a href=\"https://colab.research.google.com/github/RogerHeederer/EffectivePython/blob/master/ListAndDict_1.ipynb\" target=\"_parent\"><img src=\"https://colab.research.google.com/assets/colab-badge.svg\" alt=\"Open In Colab\"/></a>"
      ]
    },
    {
      "cell_type": "code",
      "metadata": {
        "id": "ANPkYVOJNQbZ"
      },
      "source": [
        "#파이썬 3.7부터 인스턴스에 들어있는 내용 순으로 삽입됨을 보장할 수 있다.\n",
        "votes = {\n",
        "    'otter': 1281,\n",
        "    'polar bear': 587,\n",
        "    'fox': 863\n",
        "}"
      ],
      "execution_count": 155,
      "outputs": []
    },
    {
      "cell_type": "code",
      "metadata": {
        "id": "QlyuLAeaNd6W"
      },
      "source": [
        "#득표순으로 정렬해주는 함수\n",
        "def populate_ranks(votes, ranks):\n",
        "    names = list(votes.keys())\n",
        "    names.sort(key=votes.get, reverse=True) # votes.get은 딕셔너리 key값들에 해당하는 value들을 리턴. 즉 득표수를 기준으로 오름차순 정렬\n",
        "    for i, name in enumerate(names, 1): #i를 1부터 시작하기 위해 names, 1\n",
        "        ranks[name] = i"
      ],
      "execution_count": null,
      "outputs": []
    },
    {
      "cell_type": "code",
      "metadata": {
        "colab": {
          "base_uri": "https://localhost:8080/"
        },
        "id": "WVr9mLU4ggkt",
        "outputId": "7afc6cb6-3a04-417b-b7a9-7e8b946278b2"
      },
      "source": [
        "votes.get('otter')"
      ],
      "execution_count": null,
      "outputs": [
        {
          "output_type": "execute_result",
          "data": {
            "text/plain": [
              "1281"
            ]
          },
          "metadata": {
            "tags": []
          },
          "execution_count": 117
        }
      ]
    },
    {
      "cell_type": "code",
      "metadata": {
        "colab": {
          "base_uri": "https://localhost:8080/"
        },
        "id": "RiOixgP-OiDX",
        "outputId": "9aa2896c-6109-4326-a739-a5a2e62ab038"
      },
      "source": [
        "ranks = {}\n",
        "populate_ranks(votes, ranks)\n",
        "print(ranks)"
      ],
      "execution_count": null,
      "outputs": [
        {
          "output_type": "stream",
          "text": [
            "{'otter': 1, 'fox': 2, 'polar bear': 3}\n"
          ],
          "name": "stdout"
        }
      ]
    },
    {
      "cell_type": "code",
      "metadata": {
        "id": "2S2u9ATCOtxZ"
      },
      "source": [
        "iter_test = iter(range(3))"
      ],
      "execution_count": null,
      "outputs": []
    },
    {
      "cell_type": "code",
      "metadata": {
        "colab": {
          "base_uri": "https://localhost:8080/"
        },
        "id": "pT612MacP9tc",
        "outputId": "bee12ac6-d744-4148-eb39-d20fb40e5975"
      },
      "source": [
        "iter_test"
      ],
      "execution_count": null,
      "outputs": [
        {
          "output_type": "execute_result",
          "data": {
            "text/plain": [
              "<range_iterator at 0x7fbee3816060>"
            ]
          },
          "metadata": {
            "tags": []
          },
          "execution_count": 66
        }
      ]
    },
    {
      "cell_type": "code",
      "metadata": {
        "colab": {
          "base_uri": "https://localhost:8080/"
        },
        "id": "hD4BBSqkP_Op",
        "outputId": "39414673-03ce-4d24-ecb9-b31997de6c59"
      },
      "source": [
        "next(iter_test)"
      ],
      "execution_count": null,
      "outputs": [
        {
          "output_type": "execute_result",
          "data": {
            "text/plain": [
              "0"
            ]
          },
          "metadata": {
            "tags": []
          },
          "execution_count": 67
        }
      ]
    },
    {
      "cell_type": "code",
      "metadata": {
        "colab": {
          "base_uri": "https://localhost:8080/"
        },
        "id": "GPj20NsYQQoC",
        "outputId": "79e619ff-696e-41b5-a62e-d4e80e32f120"
      },
      "source": [
        "next(iter_test), next(iter_test)"
      ],
      "execution_count": null,
      "outputs": [
        {
          "output_type": "execute_result",
          "data": {
            "text/plain": [
              "(1, 2)"
            ]
          },
          "metadata": {
            "tags": []
          },
          "execution_count": 68
        }
      ]
    },
    {
      "cell_type": "code",
      "metadata": {
        "colab": {
          "base_uri": "https://localhost:8080/",
          "height": 164
        },
        "id": "wkNLEUQlQUCA",
        "outputId": "704745bc-b466-4016-8bb4-cb628880e6b1"
      },
      "source": [
        "next(iter_test)"
      ],
      "execution_count": null,
      "outputs": [
        {
          "output_type": "error",
          "ename": "StopIteration",
          "evalue": "ignored",
          "traceback": [
            "\u001b[0;31m---------------------------------------------------------------------------\u001b[0m",
            "\u001b[0;31mStopIteration\u001b[0m                             Traceback (most recent call last)",
            "\u001b[0;32m<ipython-input-69-ff780d220731>\u001b[0m in \u001b[0;36m<module>\u001b[0;34m()\u001b[0m\n\u001b[0;32m----> 1\u001b[0;31m \u001b[0mnext\u001b[0m\u001b[0;34m(\u001b[0m\u001b[0miter_test\u001b[0m\u001b[0;34m)\u001b[0m\u001b[0;34m\u001b[0m\u001b[0;34m\u001b[0m\u001b[0m\n\u001b[0m",
            "\u001b[0;31mStopIteration\u001b[0m: "
          ]
        }
      ]
    },
    {
      "cell_type": "markdown",
      "metadata": {
        "id": "KMSawY0QQXfN"
      },
      "source": [
        "0~3을 지났으므로 에러 발생"
      ]
    },
    {
      "cell_type": "code",
      "metadata": {
        "colab": {
          "base_uri": "https://localhost:8080/"
        },
        "id": "osbY4hDiW61f",
        "outputId": "e01dadce-3b42-4fa8-e5c7-b9d29952c46b"
      },
      "source": [
        "print(ranks)"
      ],
      "execution_count": null,
      "outputs": [
        {
          "output_type": "stream",
          "text": [
            "{'otter': 1, 'fox': 2, 'polar bear': 3}\n"
          ],
          "name": "stdout"
        }
      ]
    },
    {
      "cell_type": "code",
      "metadata": {
        "id": "6OlzsYdcXE8k"
      },
      "source": [
        "a = iter(ranks)"
      ],
      "execution_count": null,
      "outputs": []
    },
    {
      "cell_type": "code",
      "metadata": {
        "colab": {
          "base_uri": "https://localhost:8080/"
        },
        "id": "FmlYQxj9XLfm",
        "outputId": "2275046d-fd17-49f9-d346-a3c192bb7899"
      },
      "source": [
        "print(next(a), next(a), next(a))"
      ],
      "execution_count": null,
      "outputs": [
        {
          "output_type": "stream",
          "text": [
            "otter fox polar bear\n"
          ],
          "name": "stdout"
        }
      ]
    },
    {
      "cell_type": "code",
      "metadata": {
        "id": "NsxQWy-6N2kw"
      },
      "source": [
        "# 이 함수의 가정은 이미 위에서 득표순으로 정렬을 해놓은 딕셔너리가 들어온다고 가정하고 있다.\n",
        "# 이런 가정을 하고 짜는 코드 방식은 범용적이지 않아 추천하지 않는다.\n",
        "def get_winner(ranks):\n",
        "    return next(iter(ranks)) # 인덱스 제일 앞부터 시작을 하기 때문에 이미 1,2,3위로 정렬된 상태라 1을 보내주는게 우승자를 내보내는 것"
      ],
      "execution_count": null,
      "outputs": []
    },
    {
      "cell_type": "code",
      "metadata": {
        "colab": {
          "base_uri": "https://localhost:8080/"
        },
        "id": "8DQKwRKVWuKf",
        "outputId": "1934124d-47ab-4094-ae2f-e718e343735d"
      },
      "source": [
        "winner = get_winner(ranks)\n",
        "print(winner)"
      ],
      "execution_count": null,
      "outputs": [
        {
          "output_type": "stream",
          "text": [
            "otter\n"
          ],
          "name": "stdout"
        }
      ]
    },
    {
      "cell_type": "markdown",
      "metadata": {
        "id": "oSCl22teZ6Hu"
      },
      "source": [
        "프로그램 요구 사항 변경 -> 등수가 아닌 알파벳 순으로 보여줘라"
      ]
    },
    {
      "cell_type": "code",
      "metadata": {
        "id": "LUMKPEqMWv29"
      },
      "source": [
        "from collections.abc import MutableMapping\n",
        "\n",
        "class SortedDict(MutableMapping):\n",
        "    def __init__(self):\n",
        "        self.data = {}\n",
        "    \n",
        "    def __getitem__(self, key):\n",
        "        return self.data[key]\n",
        "\n",
        "    def __setitem__(self, key, value):\n",
        "        self.data[key] = value\n",
        "\n",
        "    def __delitem__(self, key):\n",
        "        del self.data[key]\n",
        "\n",
        "    def __iter__(self):\n",
        "        keys = list(self.data.keys()) #keys - otter, fox, polar bear\n",
        "        keys.sort() # keys 기준 정렬이니 알파벳 순 정렬\n",
        "        for key in keys:\n",
        "            yield key\n",
        "\n",
        "    def __len__(self):\n",
        "        return len(self.data)"
      ],
      "execution_count": null,
      "outputs": []
    },
    {
      "cell_type": "code",
      "metadata": {
        "id": "RYtKl2ALdttU"
      },
      "source": [
        "sorted_ranks = SortedDict()"
      ],
      "execution_count": null,
      "outputs": []
    },
    {
      "cell_type": "code",
      "metadata": {
        "id": "jpXmxnTqex83"
      },
      "source": [
        "def alphabet(votes, ranks):\n",
        "    keys = list(votes.keys())\n",
        "    print(keys)\n",
        "    keys.sort(reverse=True)\n",
        "    print(keys)\n",
        "    keys.sort()\n",
        "    print(keys)"
      ],
      "execution_count": null,
      "outputs": []
    },
    {
      "cell_type": "code",
      "metadata": {
        "colab": {
          "base_uri": "https://localhost:8080/"
        },
        "id": "UxE_n-z6lsjT",
        "outputId": "cfdda255-d6a7-409f-e60d-18e6e7b973a7"
      },
      "source": [
        "alphabet(votes, sorted_ranks)"
      ],
      "execution_count": null,
      "outputs": [
        {
          "output_type": "stream",
          "text": [
            "['otter', 'polar bear', 'fox']\n",
            "['polar bear', 'otter', 'fox']\n",
            "['fox', 'otter', 'polar bear']\n"
          ],
          "name": "stdout"
        }
      ]
    },
    {
      "cell_type": "code",
      "metadata": {
        "colab": {
          "base_uri": "https://localhost:8080/"
        },
        "id": "ueYVh66fdyGw",
        "outputId": "b44acf5d-e3df-4f6a-fa00-d6d2462c063a"
      },
      "source": [
        "populate_ranks(votes, sorted_ranks) #__iter__에서 알파벳 순 정렬이 된 상태로 들어감 fox, otter, polar bear 순으로\n",
        "print(sorted_ranks.data)\n",
        "winner = get_winner(sorted_ranks)\n",
        "print(winner) # next(iter(sorted_ranks)) 구문 특성상 가장 앞에 있는 fox를 내뱉어줌\n",
        "#즉 get_winner 구현의 가정은, 삽입 순서에 맞게 딕셔너리를 이터레이션한다고 가정했기 때문이다."
      ],
      "execution_count": null,
      "outputs": [
        {
          "output_type": "stream",
          "text": [
            "{'otter': 1, 'fox': 2, 'polar bear': 3}\n",
            "fox\n"
          ],
          "name": "stdout"
        }
      ]
    },
    {
      "cell_type": "code",
      "metadata": {
        "id": "Sp5UgvbhdyrC"
      },
      "source": [
        "# 방법 1: get_winner 함수의 구현 의도에 맞지 않는 sortedDict이 들어와도 해결할 수 있는 함수는 다음과 같다\n",
        "def get_winner_v1(ranks):\n",
        "    for name, rank in ranks.items():\n",
        "        if rank == 1:\n",
        "            return name"
      ],
      "execution_count": null,
      "outputs": []
    },
    {
      "cell_type": "code",
      "metadata": {
        "colab": {
          "base_uri": "https://localhost:8080/"
        },
        "id": "yLAsIb_nd7q6",
        "outputId": "c1d57f49-eb84-4bc3-ffe8-712c4bfa4a2a"
      },
      "source": [
        "winner = get_winner_v1(sorted_ranks)\n",
        "print(winner)"
      ],
      "execution_count": null,
      "outputs": [
        {
          "output_type": "stream",
          "text": [
            "otter\n"
          ],
          "name": "stdout"
        }
      ]
    },
    {
      "cell_type": "code",
      "metadata": {
        "id": "AP4KPNCeoTuO"
      },
      "source": [
        "# 방법 2: Sorted Dict가 들어오면 타입 에러로 막아버리기. 일반 dict 만 허용\n",
        "def get_winner_v2(ranks):\n",
        "    if not isinstance(ranks, dict):\n",
        "        raise TypeError('dict 인스턴스가 필요')\n",
        "    return next(iter(ranks))"
      ],
      "execution_count": null,
      "outputs": []
    },
    {
      "cell_type": "code",
      "metadata": {
        "colab": {
          "base_uri": "https://localhost:8080/",
          "height": 266
        },
        "id": "0X7R_w6FoqYR",
        "outputId": "4e24bab5-20f9-4544-d608-3474e1d4f916"
      },
      "source": [
        "get_winner_v2(sorted_ranks)"
      ],
      "execution_count": null,
      "outputs": [
        {
          "output_type": "error",
          "ename": "TypeError",
          "evalue": "ignored",
          "traceback": [
            "\u001b[0;31m---------------------------------------------------------------------------\u001b[0m",
            "\u001b[0;31mTypeError\u001b[0m                                 Traceback (most recent call last)",
            "\u001b[0;32m<ipython-input-139-465a0afaecc9>\u001b[0m in \u001b[0;36m<module>\u001b[0;34m()\u001b[0m\n\u001b[0;32m----> 1\u001b[0;31m \u001b[0mget_winner_v2\u001b[0m\u001b[0;34m(\u001b[0m\u001b[0msorted_ranks\u001b[0m\u001b[0;34m)\u001b[0m\u001b[0;34m\u001b[0m\u001b[0;34m\u001b[0m\u001b[0m\n\u001b[0m",
            "\u001b[0;32m<ipython-input-138-d311257914b4>\u001b[0m in \u001b[0;36mget_winner_v2\u001b[0;34m(ranks)\u001b[0m\n\u001b[1;32m      1\u001b[0m \u001b[0;32mdef\u001b[0m \u001b[0mget_winner_v2\u001b[0m\u001b[0;34m(\u001b[0m\u001b[0mranks\u001b[0m\u001b[0;34m)\u001b[0m\u001b[0;34m:\u001b[0m\u001b[0;34m\u001b[0m\u001b[0;34m\u001b[0m\u001b[0m\n\u001b[1;32m      2\u001b[0m     \u001b[0;32mif\u001b[0m \u001b[0;32mnot\u001b[0m \u001b[0misinstance\u001b[0m\u001b[0;34m(\u001b[0m\u001b[0mranks\u001b[0m\u001b[0;34m,\u001b[0m \u001b[0mdict\u001b[0m\u001b[0;34m)\u001b[0m\u001b[0;34m:\u001b[0m\u001b[0;34m\u001b[0m\u001b[0;34m\u001b[0m\u001b[0m\n\u001b[0;32m----> 3\u001b[0;31m         \u001b[0;32mraise\u001b[0m \u001b[0mTypeError\u001b[0m\u001b[0;34m(\u001b[0m\u001b[0;34m'dict 인스턴스가 필요'\u001b[0m\u001b[0;34m)\u001b[0m\u001b[0;34m\u001b[0m\u001b[0;34m\u001b[0m\u001b[0m\n\u001b[0m\u001b[1;32m      4\u001b[0m     \u001b[0;32mreturn\u001b[0m \u001b[0mnext\u001b[0m\u001b[0;34m(\u001b[0m\u001b[0miter\u001b[0m\u001b[0;34m(\u001b[0m\u001b[0mranks\u001b[0m\u001b[0;34m)\u001b[0m\u001b[0;34m)\u001b[0m\u001b[0;34m\u001b[0m\u001b[0;34m\u001b[0m\u001b[0m\n",
            "\u001b[0;31mTypeError\u001b[0m: dict 인스턴스가 필요"
          ]
        }
      ]
    },
    {
      "cell_type": "code",
      "metadata": {
        "id": "GjOGA9qCovTz"
      },
      "source": [
        "# 방법 3: Funtion Annotation을 사용하기\n",
        "from typing import Dict, MutableMapping\n",
        "\n",
        "class SortedDict(MutableMapping[str, int]): #annotation\n",
        "    def __init__(self):\n",
        "        self.data = {}\n",
        "    \n",
        "    def __getitem__(self, key):\n",
        "        return self.data[key]\n",
        "\n",
        "    def __setitem__(self, key, value):\n",
        "        self.data[key] = value\n",
        "\n",
        "    def __delitem__(self, key):\n",
        "        del self.data[key]\n",
        "\n",
        "    def __iter__(self):\n",
        "        keys = list(self.data.keys()) #keys - otter, fox, polar bear\n",
        "        keys.sort() # keys 기준 정렬이니 알파벳 순 정렬\n",
        "        for key in keys:\n",
        "            yield key\n",
        "\n",
        "    def __len__(self):\n",
        "        return len(self.data)\n",
        "\n",
        "from typing import Dict, MutableMapping\n",
        "\n",
        "def populate_ranks(votes: Dict[str, int], # votes는 Dict 타입이며, str,int로 이루어져있다.\n",
        "                   ranks: Dict[str, int]) -> None: # ranks도 마찬가지. 그리고 함수 반환값은 None\n",
        "    \n",
        "    names = list(votes.keys())\n",
        "    names.sort(key=votes.get, reverse=True) #득표수 순으로 내림차순 정렬\n",
        "    for i, name in enumerate(names, 1):\n",
        "        ranks[name] = i\n",
        "\n",
        "def get_winner(ranks: Dict[str, int]) -> str: # annotation\n",
        "    return next(iter(ranks))"
      ],
      "execution_count": 161,
      "outputs": []
    },
    {
      "cell_type": "code",
      "metadata": {
        "id": "08sZxJuDs84R"
      },
      "source": [
        "votes = {\n",
        "    'otter': 1281,\n",
        "    'polar bear': 587,\n",
        "    'fox': 863,\n",
        "}"
      ],
      "execution_count": 162,
      "outputs": []
    },
    {
      "cell_type": "code",
      "metadata": {
        "colab": {
          "base_uri": "https://localhost:8080/"
        },
        "id": "4li_XZlstGm_",
        "outputId": "273197a3-af08-481f-b29f-bb372f6cc8d3"
      },
      "source": [
        "sorted_ranks = SortedDict()\n",
        "populate_ranks(votes, sorted_ranks)\n",
        "print(sorted_ranks.data)"
      ],
      "execution_count": 163,
      "outputs": [
        {
          "output_type": "stream",
          "text": [
            "{'otter': 1, 'fox': 2, 'polar bear': 3}\n"
          ],
          "name": "stdout"
        }
      ]
    },
    {
      "cell_type": "markdown",
      "metadata": {
        "id": "Ah3JIuau1QDB"
      },
      "source": [
        "그냥 실행시키면, 방법 3이 안먹힌다. 그냥 잘 실행된다."
      ]
    },
    {
      "cell_type": "code",
      "metadata": {
        "colab": {
          "base_uri": "https://localhost:8080/"
        },
        "id": "nQxclovNt6sz",
        "outputId": "6bbbdafc-8f21-4977-8284-7d66d4e66331"
      },
      "source": [
        "type(sorted_ranks)"
      ],
      "execution_count": 164,
      "outputs": [
        {
          "output_type": "execute_result",
          "data": {
            "text/plain": [
              "__main__.SortedDict"
            ]
          },
          "metadata": {
            "tags": []
          },
          "execution_count": 164
        }
      ]
    },
    {
      "cell_type": "code",
      "metadata": {
        "colab": {
          "base_uri": "https://localhost:8080/"
        },
        "id": "9vWaH1nWtRdE",
        "outputId": "88d633c4-fbd1-48ea-c0f9-875c64ff1b74"
      },
      "source": [
        "winner = get_winner(sorted_ranks)\n",
        "print(winner)"
      ],
      "execution_count": 165,
      "outputs": [
        {
          "output_type": "stream",
          "text": [
            "fox\n"
          ],
          "name": "stdout"
        }
      ]
    },
    {
      "cell_type": "code",
      "metadata": {
        "id": "CcEBMGtrtZlE",
        "colab": {
          "base_uri": "https://localhost:8080/"
        },
        "outputId": "2cb36b06-f4ee-4694-fced-28747f4e3a72"
      },
      "source": [
        "!pip install mypy"
      ],
      "execution_count": 169,
      "outputs": [
        {
          "output_type": "stream",
          "text": [
            "Collecting mypy\n",
            "\u001b[?25l  Downloading https://files.pythonhosted.org/packages/e2/cb/cf5530d063e7e703e2fbec677bfba633de6e70fe44bc323deeaa27f273b8/mypy-0.790-cp36-cp36m-manylinux1_x86_64.whl (21.0MB)\n",
            "\u001b[K     |████████████████████████████████| 21.0MB 48.5MB/s \n",
            "\u001b[?25hRequirement already satisfied: typing-extensions>=3.7.4 in /usr/local/lib/python3.6/dist-packages (from mypy) (3.7.4.3)\n",
            "Collecting typed-ast<1.5.0,>=1.4.0\n",
            "\u001b[?25l  Downloading https://files.pythonhosted.org/packages/56/c1/4cc3c0da2374963f59b2f57ef02e048cdc4f609cbc1184b4146d0812e5b5/typed_ast-1.4.2-cp36-cp36m-manylinux1_x86_64.whl (743kB)\n",
            "\u001b[K     |████████████████████████████████| 747kB 43.0MB/s \n",
            "\u001b[?25hCollecting mypy-extensions<0.5.0,>=0.4.3\n",
            "  Downloading https://files.pythonhosted.org/packages/5c/eb/975c7c080f3223a5cdaff09612f3a5221e4ba534f7039db34c35d95fa6a5/mypy_extensions-0.4.3-py2.py3-none-any.whl\n",
            "Installing collected packages: typed-ast, mypy-extensions, mypy\n",
            "Successfully installed mypy-0.790 mypy-extensions-0.4.3 typed-ast-1.4.2\n"
          ],
          "name": "stdout"
        }
      ]
    },
    {
      "cell_type": "markdown",
      "metadata": {
        "id": "Eogs_IifzdBN"
      },
      "source": [
        "코랩에서 mypy를 활용해 해당 파일을 실행시키기 어려워, 방법 설명만 기재"
      ]
    },
    {
      "cell_type": "markdown",
      "metadata": {
        "id": "Ce6awUHX0PeL"
      },
      "source": [
        "##타입 어노테이션/ 타입 체크를 하는 mypy\n",
        "\n",
        "파이썬과 같이 동적 프로그래밍 언어에서 정적 타입 체크가 무슨 말? 이런 생각을 할 수 있다.\n",
        "\n",
        "파이썬의 동적 타입 처리의 유연함은 일회성 스크립트나 소규모 어플리케이션을 개발할 때는 큰 장점\n",
        "\n",
        "하지만, 어플리케이션 규모가 커지면 이러한 파이썬의 다이나믹한 장점은 버그로 이어질 확률이 크다.\n",
        "\n",
        "그래서 타입 어노테이션은 파이썬 코드에 타입 명확 명시를 위해 파이썬 3.5부터 추가되었다.\n",
        "\n",
        "이 표준에 따라 변수나 함수에 타입이 명시된 파이썬 코드는 정적 타입 검사기를 통해 코드를 실행하지 않고도 타입 에러 찾아낼 수 있다."
      ]
    },
    {
      "cell_type": "code",
      "metadata": {
        "id": "WvlVvHpsx36y"
      },
      "source": [
        "#위 모듈을 설치하고,\n",
        "#python3 -m mypy --strict ListAndDict_1.py를 실행시키면\n",
        "# dict와 MutalbeMapping 타입의 차이를 올바로 감지해서 적절한 타입의 객체를 사용하지 않았을 때 오류를 발생시킨다.\n",
        "# populate_ranks has incompatible type \"SortedDict\": expected \"Dict[str, int]\" 와 같은 오류를 발생시킨다.\n",
        "# 즉 파이썬 인터프리터가 잡지 못하는 타입 버그를 쉽게 찾아내준다.\n",
        "# 이 방법은 정적 타입 안정성과 런타임 성능을 가장 잘 조합해준다"
      ],
      "execution_count": null,
      "outputs": []
    }
  ]
}